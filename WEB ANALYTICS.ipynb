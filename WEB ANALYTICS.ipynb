{
 "cells": [
  {
   "cell_type": "code",
   "execution_count": 0,
   "metadata": {
    "application/vnd.databricks.v1+cell": {
     "cellMetadata": {
      "byteLimit": 2048000,
      "rowLimit": 10000
     },
     "inputWidgets": {},
     "nuid": "af0690f3-4475-4215-a6c6-cc88b8fcb2b2",
     "showTitle": false,
     "tableResultSettingsMap": {},
     "title": ""
    }
   },
   "outputs": [],
   "source": [
    "from pyspark.sql.functions import to_date\n",
    "from pyspark.sql.functions import col"
   ]
  },
  {
   "cell_type": "markdown",
   "metadata": {
    "application/vnd.databricks.v1+cell": {
     "cellMetadata": {},
     "inputWidgets": {},
     "nuid": "91f5f675-a5ba-40a3-b9ba-29373b105ead",
     "showTitle": false,
     "tableResultSettingsMap": {},
     "title": ""
    }
   },
   "source": [
    "**CREATE CATALOG AND DATABASE**"
   ]
  },
  {
   "cell_type": "code",
   "execution_count": 0,
   "metadata": {
    "application/vnd.databricks.v1+cell": {
     "cellMetadata": {
      "byteLimit": 2048000,
      "implicitDf": true,
      "rowLimit": 10000
     },
     "inputWidgets": {},
     "nuid": "d1451577-2dcb-4da8-b2cd-e08e1007ec1e",
     "showTitle": false,
     "tableResultSettingsMap": {},
     "title": ""
    }
   },
   "outputs": [],
   "source": [
    "%sql\n",
    "CREATE CATALOG IF NOT EXISTS web_catalog\n",
    "MANAGED LOCATION 'abfss://unity-catalog-storage@dbstoragedlwvnba4d5k72.dfs.core.windows.net/2141168493853526';\n",
    "\n",
    "CREATE DATABASE IF NOT EXISTS web_catalog.web_database;\n"
   ]
  },
  {
   "cell_type": "markdown",
   "metadata": {
    "application/vnd.databricks.v1+cell": {
     "cellMetadata": {},
     "inputWidgets": {},
     "nuid": "fecc7b3d-2575-4eb2-9992-ba75e6a71bf2",
     "showTitle": false,
     "tableResultSettingsMap": {},
     "title": ""
    }
   },
   "source": [
    "**BRONZE TABLE: RAW GA4 EVENTS**"
   ]
  },
  {
   "cell_type": "code",
   "execution_count": 0,
   "metadata": {
    "application/vnd.databricks.v1+cell": {
     "cellMetadata": {
      "byteLimit": 2048000,
      "rowLimit": 10000
     },
     "inputWidgets": {},
     "nuid": "8b72fb61-6693-4488-8e91-74e38adfbd3f",
     "showTitle": false,
     "tableResultSettingsMap": {},
     "title": ""
    }
   },
   "outputs": [],
   "source": [
    "raw_data = (\n",
    "    spark.read.format(\"csv\")\n",
    "    .option(\"header\", True)\n",
    "    #.option(\"dateFormat\", \"YYYY-MM-dd\")\n",
    "    .option(\"inferSchema\", True)\n",
    "    .load(\"abfss://dbfs-container@joyonuoha.dfs.core.windows.net/external/ga4_ingestion_output.csv\")\n",
    "    .withColumnRenamed(\"date\", \"event_date\")\n",
    ")\n",
    "\n",
    "\n",
    "\n",
    "# change the date format from integer to date\n",
    "raw_data = raw_data.withColumn(\"event_date\", to_date(col(\"event_date\"), \"yyyyMMdd\"))\n",
    "\n",
    "display(raw_data)"
   ]
  },
  {
   "cell_type": "code",
   "execution_count": 0,
   "metadata": {
    "application/vnd.databricks.v1+cell": {
     "cellMetadata": {
      "byteLimit": 2048000,
      "implicitDf": true,
      "rowLimit": 10000
     },
     "inputWidgets": {},
     "nuid": "e7933f68-2101-4deb-a6f7-9627ba673d3e",
     "showTitle": false,
     "tableResultSettingsMap": {},
     "title": ""
    }
   },
   "outputs": [],
   "source": [
    "%sql\n",
    "CREATE TABLE IF NOT EXISTS web_catalog.web_database.bronze (\n",
    "    event_date date,\n",
    "    country string,\n",
    "    deviceCategory string,\n",
    "    browser string,\n",
    "    eventName string,\n",
    "    activeUsers integer,\n",
    "    engagedSessions integer,\n",
    "    engagementRate double,\n",
    "    averageSessionDuration double,\n",
    "    userEngagementDuration integer,\n",
    "    bounceRate double,\n",
    "    eventsPerSession double,\n",
    "    screenPageViews integer,\n",
    "    screenPageViewsPerSession double,\n",
    "    newUsers integer\n",
    ")\n",
    "USING DELTA"
   ]
  },
  {
   "cell_type": "code",
   "execution_count": 0,
   "metadata": {
    "application/vnd.databricks.v1+cell": {
     "cellMetadata": {
      "byteLimit": 2048000,
      "rowLimit": 10000
     },
     "inputWidgets": {},
     "nuid": "20d7080c-5ffa-4528-a6ca-607f0d4eba89",
     "showTitle": false,
     "tableResultSettingsMap": {},
     "title": ""
    }
   },
   "outputs": [],
   "source": [
    "raw_data.write.format(\"delta\").mode(\"append\").saveAsTable(\"web_catalog.web_database.bronze\")"
   ]
  },
  {
   "cell_type": "markdown",
   "metadata": {
    "application/vnd.databricks.v1+cell": {
     "cellMetadata": {},
     "inputWidgets": {},
     "nuid": "6b258520-cc7a-49a6-85b3-558d1a4115b8",
     "showTitle": false,
     "tableResultSettingsMap": {},
     "title": ""
    }
   },
   "source": [
    "**SILVER TRANSFORMATION**"
   ]
  },
  {
   "cell_type": "code",
   "execution_count": 0,
   "metadata": {
    "application/vnd.databricks.v1+cell": {
     "cellMetadata": {
      "byteLimit": 2048000,
      "implicitDf": true,
      "rowLimit": 10000
     },
     "inputWidgets": {},
     "nuid": "3787b20f-2077-44d9-898c-358919531d18",
     "showTitle": false,
     "tableResultSettingsMap": {},
     "title": ""
    }
   },
   "outputs": [],
   "source": [
    "%sql\n",
    "-- Silver Layer: Cleaned and enriched data\n",
    "\n",
    "CREATE OR REPLACE TABLE web_catalog.web_database.bricks_silver AS\n",
    "SELECT \n",
    "    event_date,\n",
    "    country,\n",
    "    deviceCategory,\n",
    "    browser,\n",
    "    eventName,\n",
    "    activeUsers,\n",
    "    engagedSessions,\n",
    "    engagementRate,\n",
    "    averageSessionDuration,\n",
    "    userEngagementDuration,\n",
    "    bounceRate,\n",
    "    eventsPerSession,\n",
    "    screenPageViews,\n",
    "    screenPageViewsPerSession,\n",
    "    newUsers,\n",
    "    current_timestamp() AS ingestion_time\n",
    "FROM web_catalog.web_database.bronze\n",
    "WHERE eventName IS NOT NULL\n",
    "  AND engagedSessions IS NOT NULL\n",
    "  AND isnan(engagementRate) = false;"
   ]
  },
  {
   "cell_type": "markdown",
   "metadata": {
    "application/vnd.databricks.v1+cell": {
     "cellMetadata": {},
     "inputWidgets": {},
     "nuid": "9d2287ca-5468-4cce-aa38-13f3cb905a23",
     "showTitle": false,
     "tableResultSettingsMap": {},
     "title": ""
    }
   },
   "source": [
    "**GOLD TRANSFORMATION**"
   ]
  },
  {
   "cell_type": "code",
   "execution_count": 0,
   "metadata": {
    "application/vnd.databricks.v1+cell": {
     "cellMetadata": {
      "byteLimit": 2048000,
      "implicitDf": true,
      "rowLimit": 10000
     },
     "inputWidgets": {},
     "nuid": "83cfd195-26b8-43f6-8f5b-30618c721f17",
     "showTitle": false,
     "tableResultSettingsMap": {},
     "title": ""
    }
   },
   "outputs": [],
   "source": [
    "%sql\n",
    "-- Gold Layer: Aggregated business metrics\n",
    "\n",
    "CREATE OR REPLACE TABLE web_catalog.web_database.bricks_gold AS\n",
    "SELECT \n",
    "    country,\n",
    "    browser,\n",
    "    COUNT(DISTINCT engagedSessions) AS total_engaged_sessions,\n",
    "    AVG(engagementRate) AS avg_engagement_rate,\n",
    "    AVG(averageSessionDuration) AS avg_session_duration,\n",
    "    AVG(eventsPerSession) AS avg_events_per_session,\n",
    "    current_date() AS report_date\n",
    "FROM web_catalog.web_database.bricks_silver\n",
    "GROUP BY country, browser;\n"
   ]
  }
 ],
 "metadata": {
  "application/vnd.databricks.v1+notebook": {
   "computePreferences": null,
   "dashboards": [],
   "environmentMetadata": {
    "base_environment": "",
    "environment_version": "2"
   },
   "inputWidgetPreferences": null,
   "language": "python",
   "notebookMetadata": {
    "mostRecentlyExecutedCommandWithImplicitDF": {
     "commandId": 7211484226422955,
     "dataframes": [
      "_sqldf"
     ]
    },
    "pythonIndentUnit": 4
   },
   "notebookName": "WEB ANALYTICS",
   "widgets": {}
  },
  "language_info": {
   "name": "python"
  }
 },
 "nbformat": 4,
 "nbformat_minor": 0
}
